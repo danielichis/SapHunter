{
 "cells": [
  {
   "cell_type": "code",
   "execution_count": null,
   "metadata": {},
   "outputs": [],
   "source": [
    "from datetime import datetime, timezone, timedelta, date\n",
    "from threading import currentThread\n",
    "\n",
    "now = datetime.now(timezone.utc)+timedelta(hours=-4)\n",
    "print(now)\n",
    "currentDate = now.strftime(\"%d.%m.%Y\")\n",
    "currentDate\n",
    "\n",
    "\n",
    "\n",
    "data = {}\n",
    "data['loginScreen']={}\n",
    "data['loginScreen']['user']='BOT'\n",
    "data['loginScreen']['psw']='botpruebas**'\n",
    "data['bankData']={}\n",
    "data['bankData']['date']=currentDate\n",
    "data['bankData']['society']='GV01'\n",
    "data['bankData']['bankId']='BMS06'\n",
    "data['bankData']['CtaId']='42984'\n",
    "data['bankData']['coin']='BOB'\n",
    "data['programFiles']={}\n",
    "data['programFiles']['xlsxName']=''\n",
    "data['programFiles']['auszugName']=''\n",
    "data['programFiles']['umsatzName']=''"
   ]
  },
  {
   "cell_type": "code",
   "execution_count": null,
   "metadata": {},
   "outputs": [],
   "source": [
    "from operator import index\n",
    "import openpyxl\n",
    "wb = openpyxl.load_workbook(r\"C:\\Users\\x11832\\Documents\\ProyectosDaniel\\VENADO\\sapHunter\\SAPHunter\\extractosBancarios\\18102022\\2984-21062022.xlsx\")\n",
    "sheet = wb.worksheets[0]\n",
    "d=sheet.cell(row=17, column=1).value\n",
    "print(d)"
   ]
  },
  {
   "cell_type": "code",
   "execution_count": null,
   "metadata": {},
   "outputs": [],
   "source": [
    "import openpyxl\n",
    "wb = openpyxl.load_workbook(r\"C:\\Users\\x11832\\Documents\\ProyectosDaniel\\VENADO\\sapHunter\\SAPHunter\\extractosBancarios\\18102022\\5385-16102022.xlsx\")\n",
    "sheet = wb.worksheets[0]\n",
    "d2=sheet.cell(row=13, column=23).value\n",
    "d3=\"349.128,00\"\n",
    "print(type(d2))\n",
    "print(d2,\"------>\",d2.replace(\",\",\"\").replace(\".\",\",\"))\n",
    "print(d3,\"------>\",d3.replace(\",\",\"\").replace(\".\",\",\"))\n",
    "dux=float(d3)\n",
    "print(dux)"
   ]
  },
  {
   "cell_type": "code",
   "execution_count": 45,
   "metadata": {},
   "outputs": [
    {
     "name": "stdout",
     "output_type": "stream",
     "text": [
      "1000000\n",
      "1000000.0\n",
      "<class 'float'>\n"
     ]
    }
   ],
   "source": [
    "import locale\n",
    "def get_float_from_string(string):\n",
    "    locale.setlocale(locale.LC_ALL, 'es.UTF-8')\n",
    "    return locale.atof(string)\n",
    "\n",
    "initiaString=\"1000,123\"\n",
    "my_str = initiaString.replace(\",\",\"\").replace(\".\",\",\")\n",
    "print(my_str)\n",
    "myfloat=get_float_from_string(my_str)\n",
    "print(myfloat)\n",
    "print(type(myfloat))"
   ]
  },
  {
   "cell_type": "code",
   "execution_count": null,
   "metadata": {},
   "outputs": [],
   "source": [
    "# format number with decimal separator by comma\n",
    "my_str = '456,789.45'.replace(\",\",\"\").replace(\".\",\",\")\n",
    "print(my_str)\n",
    "f=float(my_str)\n",
    "print(f)"
   ]
  },
  {
   "cell_type": "code",
   "execution_count": 37,
   "metadata": {},
   "outputs": [
    {
     "name": "stdout",
     "output_type": "stream",
     "text": [
      "314\n"
     ]
    }
   ],
   "source": [
    "#function float 3,14 to 3.14\n",
    "def float_to_str(f):\n",
    "    return str(f).replace(\",\",\"\").replace(\".\",\",\")\n",
    "print(float_to_str(\"3,14\"))"
   ]
  },
  {
   "cell_type": "code",
   "execution_count": 2,
   "metadata": {},
   "outputs": [
    {
     "name": "stdout",
     "output_type": "stream",
     "text": [
      "ejecuntado codigo de la funcion\n"
     ]
    }
   ],
   "source": [
    "def showing_errors():\n",
    "    print(\"ejecuntado codigo de la funcion\")\n",
    "    try:\n",
    "        raise Exception(\"Error en la funcion\")\n",
    "        #print(\"ejecuntado codigo de la funcion\")\n",
    "    except Exception as e:\n",
    "        #print(e)\n",
    "        pass\n",
    "\n",
    "showing_errors()"
   ]
  },
  {
   "cell_type": "code",
   "execution_count": 14,
   "metadata": {},
   "outputs": [
    {
     "name": "stdout",
     "output_type": "stream",
     "text": [
      "no esta\n"
     ]
    }
   ],
   "source": [
    "with open (r\"errorsLog.txt\") as f:\n",
    "    q=str(f.readlines())\n",
    "if q.find(\"Sapgui Component\") > 0:\n",
    "    print(\"no esta\")"
   ]
  },
  {
   "cell_type": "code",
   "execution_count": 33,
   "metadata": {},
   "outputs": [],
   "source": [
    "import os\n",
    "import time\n",
    "for i in range(8):\n",
    "    time.sleep(1)\n",
    "    os.system(\"taskkill /im saplogon.exe\")"
   ]
  },
  {
   "cell_type": "code",
   "execution_count": 39,
   "metadata": {},
   "outputs": [
    {
     "data": {
      "text/plain": [
       "0"
      ]
     },
     "execution_count": 39,
     "metadata": {},
     "output_type": "execute_result"
    }
   ],
   "source": [
    "os.system(\"taskkill /im saplogon.exe\")"
   ]
  },
  {
   "cell_type": "code",
   "execution_count": null,
   "metadata": {},
   "outputs": [],
   "source": [
    "# function to get string from date with custom format\n",
    "\n",
    "def get_string_from_date(date,format):\n",
    "    return date.strftime(format)"
   ]
  },
  {
   "cell_type": "code",
   "execution_count": 49,
   "metadata": {},
   "outputs": [
    {
     "name": "stdout",
     "output_type": "stream",
     "text": [
      "mi fecha es 20.10.2021\n"
     ]
    }
   ],
   "source": [
    "#conver str to date\n",
    "from datetime import datetime\n",
    "date=\"mi fecha es 20/10/2021\"\n",
    "format=\"mi fecha es %d/%m/%Y\"\n",
    "format2=\"%d.%m.%Y\"\n",
    "date2=datetime.strptime(date,format)\n",
    "date3=date2.strftime(format2)\n",
    "print(date3)"
   ]
  },
  {
   "cell_type": "code",
   "execution_count": 45,
   "metadata": {},
   "outputs": [
    {
     "data": {
      "text/plain": [
       "'20/10/2022'"
      ]
     },
     "execution_count": 45,
     "metadata": {},
     "output_type": "execute_result"
    }
   ],
   "source": [
    "#convert date object to str\n",
    "from datetime import datetime\n",
    "date=datetime.now()\n",
    "format=\"%d/%m/%Y\"\n"
   ]
  },
  {
   "cell_type": "code",
   "execution_count": null,
   "metadata": {},
   "outputs": [],
   "source": []
  }
 ],
 "metadata": {
  "kernelspec": {
   "display_name": "Python 3.8.10 ('venv': venv)",
   "language": "python",
   "name": "python3"
  },
  "language_info": {
   "codemirror_mode": {
    "name": "ipython",
    "version": 3
   },
   "file_extension": ".py",
   "mimetype": "text/x-python",
   "name": "python",
   "nbconvert_exporter": "python",
   "pygments_lexer": "ipython3",
   "version": "3.8.10"
  },
  "orig_nbformat": 4,
  "vscode": {
   "interpreter": {
    "hash": "57eed4f428763df7a9afa22690aedf501c38a7cb2406131725eb6c8a415e175f"
   }
  }
 },
 "nbformat": 4,
 "nbformat_minor": 2
}
