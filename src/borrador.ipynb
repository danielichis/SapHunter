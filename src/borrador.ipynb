{
 "cells": [
  {
   "cell_type": "code",
   "execution_count": null,
   "metadata": {},
   "outputs": [],
   "source": [
    "from datetime import datetime, timezone, timedelta, date\n",
    "from threading import currentThread\n",
    "\n",
    "now = datetime.now(timezone.utc)+timedelta(hours=-4)\n",
    "print(now)\n",
    "currentDate = now.strftime(\"%d.%m.%Y\")\n",
    "currentDate\n",
    "\n",
    "\n",
    "\n",
    "data = {}\n",
    "data['loginScreen']={}\n",
    "data['loginScreen']['user']='BOT'\n",
    "data['loginScreen']['psw']='botpruebas**'\n",
    "data['bankData']={}\n",
    "data['bankData']['date']=currentDate\n",
    "data['bankData']['society']='GV01'\n",
    "data['bankData']['bankId']='BMS06'\n",
    "data['bankData']['CtaId']='42984'\n",
    "data['bankData']['coin']='BOB'\n",
    "data['programFiles']={}\n",
    "data['programFiles']['xlsxName']=''\n",
    "data['programFiles']['auszugName']=''\n",
    "data['programFiles']['umsatzName']=''"
   ]
  },
  {
   "cell_type": "code",
   "execution_count": null,
   "metadata": {},
   "outputs": [],
   "source": [
    "from operator import index\n",
    "import openpyxl\n",
    "wb = openpyxl.load_workbook(r\"C:\\Users\\x11832\\Documents\\ProyectosDaniel\\VENADO\\sapHunter\\SAPHunter\\extractosBancarios\\18102022\\2984-21062022.xlsx\")\n",
    "sheet = wb.worksheets[0]\n",
    "d=sheet.cell(row=17, column=1).value\n",
    "print(d)"
   ]
  },
  {
   "cell_type": "code",
   "execution_count": null,
   "metadata": {},
   "outputs": [],
   "source": [
    "import openpyxl\n",
    "wb = openpyxl.load_workbook(r\"C:\\Users\\x11832\\Documents\\ProyectosDaniel\\VENADO\\sapHunter\\SAPHunter\\extractosBancarios\\18102022\\5385-16102022.xlsx\")\n",
    "sheet = wb.worksheets[0]\n",
    "d2=sheet.cell(row=13, column=23).value\n",
    "d3=\"349.128,00\"\n",
    "print(type(d2))\n",
    "print(d2,\"------>\",d2.replace(\",\",\"\").replace(\".\",\",\"))\n",
    "print(d3,\"------>\",d3.replace(\",\",\"\").replace(\".\",\",\"))\n",
    "dux=float(d3)\n",
    "print(dux)"
   ]
  },
  {
   "cell_type": "code",
   "execution_count": 45,
   "metadata": {},
   "outputs": [
    {
     "name": "stdout",
     "output_type": "stream",
     "text": [
      "1000000\n",
      "1000000.0\n",
      "<class 'float'>\n"
     ]
    }
   ],
   "source": [
    "import locale\n",
    "def get_float_from_string(string):\n",
    "    locale.setlocale(locale.LC_ALL, 'es.UTF-8')\n",
    "    return locale.atof(string)\n",
    "\n",
    "initiaString=\"1000,123\"\n",
    "my_str = initiaString.replace(\",\",\"\").replace(\".\",\",\")\n",
    "print(my_str)\n",
    "myfloat=get_float_from_string(my_str)\n",
    "print(myfloat)\n",
    "print(type(myfloat))"
   ]
  },
  {
   "cell_type": "code",
   "execution_count": null,
   "metadata": {},
   "outputs": [],
   "source": [
    "# format number with decimal separator by comma\n",
    "my_str = '456,789.45'.replace(\",\",\"\").replace(\".\",\",\")\n",
    "print(my_str)\n",
    "f=float(my_str)\n",
    "print(f)"
   ]
  },
  {
   "cell_type": "code",
   "execution_count": 37,
   "metadata": {},
   "outputs": [
    {
     "name": "stdout",
     "output_type": "stream",
     "text": [
      "314\n"
     ]
    }
   ],
   "source": [
    "#function float 3,14 to 3.14\n",
    "def float_to_str(f):\n",
    "    return str(f).replace(\",\",\"\").replace(\".\",\",\")\n",
    "print(float_to_str(\"3,14\"))"
   ]
  },
  {
   "cell_type": "code",
   "execution_count": 38,
   "metadata": {},
   "outputs": [
    {
     "name": "stdout",
     "output_type": "stream",
     "text": [
      "314.0\n"
     ]
    }
   ],
   "source": [
    "#function to reconize 3,14 as a float\n",
    "def str_to_float(s):\n",
    "    return float(s.replace(\",\",\"\").replace(\".\",\",\"))\n",
    "print(str_to_float(\"3,14\"))\n"
   ]
  },
  {
   "cell_type": "code",
   "execution_count": null,
   "metadata": {},
   "outputs": [],
   "source": []
  }
 ],
 "metadata": {
  "kernelspec": {
   "display_name": "Python 3.8.10 ('venv': venv)",
   "language": "python",
   "name": "python3"
  },
  "language_info": {
   "codemirror_mode": {
    "name": "ipython",
    "version": 3
   },
   "file_extension": ".py",
   "mimetype": "text/x-python",
   "name": "python",
   "nbconvert_exporter": "python",
   "pygments_lexer": "ipython3",
   "version": "3.8.10"
  },
  "orig_nbformat": 4,
  "vscode": {
   "interpreter": {
    "hash": "57eed4f428763df7a9afa22690aedf501c38a7cb2406131725eb6c8a415e175f"
   }
  }
 },
 "nbformat": 4,
 "nbformat_minor": 2
}
