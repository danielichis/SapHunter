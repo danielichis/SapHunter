{
 "cells": [
  {
   "cell_type": "code",
   "execution_count": null,
   "metadata": {},
   "outputs": [],
   "source": [
    "import openpyxl\n",
    "wb = openpyxl.load_workbook(r\"C:\\DanielBots\\SapHunter\\extractosBancarios\\23112022\\0022-11102022-11102022.xlsx\")\n",
    "sheet = wb.worksheets[0]\n",
    "importe1=sheet[\"M7\"].value\n",
    "print(type(importe1))\n",
    "importe1\n"
   ]
  },
  {
   "cell_type": "code",
   "execution_count": null,
   "metadata": {},
   "outputs": [],
   "source": [
    "wb = openpyxl.load_workbook(r\"C:\\DanielBots\\SapHunter\\extractosBancarios\\23112022\\1437-09112022-09112022.xlsx\")\n",
    "sheet = wb.worksheets[0]\n",
    "importe1=sheet[\"F6\"].value\n",
    "print(type(importe1))\n",
    "importe1"
   ]
  },
  {
   "cell_type": "code",
   "execution_count": null,
   "metadata": {},
   "outputs": [],
   "source": [
    "import openpyxl\n",
    "wb = openpyxl.load_workbook(r\"C:\\Users\\x11832\\Documents\\ProyectosDaniel\\VENADO\\sapHunter\\SAPHunter\\extractosBancarios\\18102022\\5385-16102022.xlsx\")\n",
    "sheet = wb.worksheets[0]\n",
    "d2=sheet.cell(row=13, column=23).value\n",
    "d3=\"349.128,00\"\n",
    "print(type(d2))\n",
    "print(d2,\"------>\",d2.replace(\",\",\"\").replace(\".\",\",\"))\n",
    "print(d3,\"------>\",d3.replace(\",\",\"\").replace(\".\",\",\"))\n",
    "dux=float(d3)\n",
    "print(dux)"
   ]
  },
  {
   "cell_type": "code",
   "execution_count": null,
   "metadata": {},
   "outputs": [],
   "source": [
    "import locale\n",
    "def get_float_from_string(string):\n",
    "    locale.setlocale(locale.LC_ALL, 'es.UTF-8')\n",
    "    return locale.atof(string)\n",
    "\n",
    "initiaString=\"1000,123\"\n",
    "my_str = initiaString.replace(\",\",\"\").replace(\".\",\",\")\n",
    "print(my_str)\n",
    "myfloat=get_float_from_string(my_str)\n",
    "print(myfloat)\n",
    "print(type(myfloat))"
   ]
  },
  {
   "cell_type": "code",
   "execution_count": null,
   "metadata": {},
   "outputs": [],
   "source": [
    "# format number with decimal separator by comma\n",
    "my_str = '456,789.45'.replace(\",\",\"\").replace(\".\",\",\")\n",
    "print(my_str)\n",
    "f=float(my_str)\n",
    "print(f)"
   ]
  },
  {
   "cell_type": "code",
   "execution_count": null,
   "metadata": {},
   "outputs": [],
   "source": [
    "#function float 3,14 to 3.14\n",
    "def float_to_str(f):\n",
    "    return str(f).replace(\",\",\"\").replace(\".\",\",\")\n",
    "print(float_to_str(\"3,14\"))"
   ]
  },
  {
   "cell_type": "code",
   "execution_count": null,
   "metadata": {},
   "outputs": [],
   "source": [
    "# format float number\n",
    "def format_float(f):\n",
    "    return \"{:.2f}\".format(f)\n",
    "print(format_float(3.141592653589793))"
   ]
  },
  {
   "cell_type": "code",
   "execution_count": null,
   "metadata": {},
   "outputs": [],
   "source": [
    "with open(r\"C:\\Users\\LENOVO\\Documents\\RobotDaniel\\VENADO\\SapHunter\\plantillasSap\\29102022\\auszug.txt\", 'r') as file:\n",
    "    line=file.readlines()[0]\n",
    "    initialAuzug = line.split(\";\")[5]\n",
    "    finallAuzug = line.split(\";\")[8]\n",
    "print(line)\n",
    "print(\"INICIAL:\",initialAuzug)\n",
    "print(\"FINAL\",finallAuzug)\n",
    "#initialAuzug\n",
    "#finallAuzug"
   ]
  },
  {
   "cell_type": "code",
   "execution_count": null,
   "metadata": {},
   "outputs": [],
   "source": [
    "a='        864473.10-'\n",
    "if a.find(\"-\") > 0:\n",
    "    print(\"es negativo\")\n",
    "    q=a.replace(\"-\",\"\")\n",
    "print(q)\n",
    "c=-float(q)\n",
    "c"
   ]
  },
  {
   "cell_type": "code",
   "execution_count": null,
   "metadata": {},
   "outputs": [],
   "source": [
    "number=\"2129,35\"\n",
    "def get_float_from_string(number):\n",
    "    indexComma=number.find(\",\")\n",
    "    indexPunto=number.find(\".\")\n",
    "    if indexComma>=0 and indexPunto>=0:\n",
    "        print(\"hay coma y punto\")\n",
    "        if indexComma>indexPunto:\n",
    "            print(\"hay coma y punto y la coma esta despues del punto\")\n",
    "            number=number.replace(\".\",\"\").replace(\",\",\".\")\n",
    "            print(number)\n",
    "        else:\n",
    "            print(\"hay coma y punto y la coma esta antes del punto\")\n",
    "            number=number.replace(\",\",\"\")\n",
    "    elif indexComma>=0 and indexPunto==-1:\n",
    "        print(\"solo hay coma\")\n",
    "        number=number.replace(\",\",\".\")\n",
    "    elif indexPunto>=0 and indexComma==-1:\n",
    "        print(\"solo hay punto\")\n",
    "    else:\n",
    "        print(\"no hay coma ni punto\")\n",
    "    return float(number)\n",
    "print(get_float_from_string(number))"
   ]
  },
  {
   "cell_type": "code",
   "execution_count": null,
   "metadata": {},
   "outputs": [],
   "source": [
    "import pyexcel\n",
    "import os\n",
    "#list files in folder with extension .xls\n",
    "\n",
    "pathFolder=r\"C:\\DanielBots\\Bot1\\pruebasProduccion\"\n",
    "def convert_xls(pathFolder):    \n",
    "    filesInfolder=os.listdir(pathFolder)\n",
    "    for file in filesInfolder:\n",
    "        if file.endswith(\".xls\"):\n",
    "            print(file)\n",
    "            xls=pathFolder+\"\\\\\"+file\n",
    "            xlsx=pathFolder+\"\\\\\"+file.replace(\".xls\",\".xlsx\")\n",
    "            print(xls)\n",
    "            print(xlsx)\n",
    "            pyexcel.save_book_as(file_name=xls, dest_file_name=xlsx)\n",
    "            #os.remove(xls)\n",
    "convert_xls(pathFolder)\n"
   ]
  },
  {
   "cell_type": "code",
   "execution_count": null,
   "metadata": {},
   "outputs": [],
   "source": [
    "def make_num(p):\n",
    "    l=len(str(p))\n",
    "    num=\"01010000\"\n",
    "    s=num[:8-l]+str(p)\n",
    "    return s\n",
    "print(make_num(4))"
   ]
  },
  {
   "cell_type": "code",
   "execution_count": null,
   "metadata": {},
   "outputs": [],
   "source": [
    "import datetime\n",
    "#day before current day\n",
    "currentDay=datetime.datetime.now().date()\n",
    "print(currentDay)\n",
    "dayBefore=currentDay-datetime.timedelta(days=1)\n",
    "print(dayBefore)\n",
    "dayBeforeStr=dayBefore.strftime(\"%d%m%Y\")\n",
    "print(dayBeforeStr)"
   ]
  },
  {
   "cell_type": "code",
   "execution_count": 33,
   "metadata": {},
   "outputs": [
    {
     "name": "stdout",
     "output_type": "stream",
     "text": [
      "07/12/2022\n"
     ]
    },
    {
     "ename": "AttributeError",
     "evalue": "'Cell' object has no attribute 'display'",
     "output_type": "error",
     "traceback": [
      "\u001b[1;31m---------------------------------------------------------------------------\u001b[0m",
      "\u001b[1;31mAttributeError\u001b[0m                            Traceback (most recent call last)",
      "Cell \u001b[1;32mIn [33], line 10\u001b[0m\n\u001b[0;32m      7\u001b[0m sheet2\u001b[39m=\u001b[39mwb2\u001b[39m.\u001b[39mworksheets[\u001b[39m0\u001b[39m]\n\u001b[0;32m      9\u001b[0m \u001b[39mprint\u001b[39m(sheet[\u001b[39m\"\u001b[39m\u001b[39mB17\u001b[39m\u001b[39m\"\u001b[39m]\u001b[39m.\u001b[39mvalue)\n\u001b[1;32m---> 10\u001b[0m \u001b[39mprint\u001b[39m(sheet2[\u001b[39m\"\u001b[39;49m\u001b[39mA6\u001b[39;49m\u001b[39m\"\u001b[39;49m]\u001b[39m.\u001b[39;49mdisplay)\n",
      "\u001b[1;31mAttributeError\u001b[0m: 'Cell' object has no attribute 'display'"
     ]
    }
   ],
   "source": [
    "import openpyxl\n",
    "path=r\"C:\\DanielBots\\Bot1\\SapHunter\\extractosBancarios\\10122022\\1437 07122022 07122022.xlsx\"\n",
    "path2=r\"C:\\DanielBots\\Bot1\\pruebasProduccion\\1539-07122022-07122022.xlsx\"\n",
    "wb1=openpyxl.load_workbook(path)\n",
    "wb2=openpyxl.load_workbook(path2)\n",
    "sheet=wb1.worksheets[0]\n",
    "sheet2=wb2.worksheets[0]\n",
    "\n",
    "print(sheet[\"B17\"].value)\n",
    "print(sheet2[\"A6\"].value)\n",
    "\n"
   ]
  },
  {
   "cell_type": "code",
   "execution_count": null,
   "metadata": {},
   "outputs": [],
   "source": []
  }
 ],
 "metadata": {
  "kernelspec": {
   "display_name": "Python 3.10.4 64-bit",
   "language": "python",
   "name": "python3"
  },
  "language_info": {
   "codemirror_mode": {
    "name": "ipython",
    "version": 3
   },
   "file_extension": ".py",
   "mimetype": "text/x-python",
   "name": "python",
   "nbconvert_exporter": "python",
   "pygments_lexer": "ipython3",
   "version": "3.10.5"
  },
  "orig_nbformat": 4,
  "vscode": {
   "interpreter": {
    "hash": "369f2c481f4da34e4445cda3fffd2e751bd1c4d706f27375911949ba6bb62e1c"
   }
  }
 },
 "nbformat": 4,
 "nbformat_minor": 2
}
