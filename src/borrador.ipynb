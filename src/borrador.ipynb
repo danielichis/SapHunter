{
 "cells": [
  {
   "cell_type": "code",
   "execution_count": null,
   "metadata": {},
   "outputs": [],
   "source": [
    "from datetime import datetime, timezone, timedelta, date\n",
    "from threading import currentThread\n",
    "\n",
    "now = datetime.now(timezone.utc)+timedelta(hours=-4)\n",
    "print(now)\n",
    "currentDate = now.strftime(\"%d.%m.%Y\")\n",
    "currentDate\n",
    "\n",
    "\n",
    "\n",
    "data = {}\n",
    "data['loginScreen']={}\n",
    "data['loginScreen']['user']='BOT'\n",
    "data['loginScreen']['psw']='botpruebas**'\n",
    "data['bankData']={}\n",
    "data['bankData']['date']=currentDate\n",
    "data['bankData']['society']='GV01'\n",
    "data['bankData']['bankId']='BMS06'\n",
    "data['bankData']['CtaId']='42984'\n",
    "data['bankData']['coin']='BOB'\n",
    "data['programFiles']={}\n",
    "data['programFiles']['xlsxName']=''\n",
    "data['programFiles']['auszugName']=''\n",
    "data['programFiles']['umsatzName']=''"
   ]
  },
  {
   "cell_type": "code",
   "execution_count": 55,
   "metadata": {},
   "outputs": [
    {
     "name": "stdout",
     "output_type": "stream",
     "text": [
      "2022-06-03 00:00:00\n",
      "<class 'datetime.datetime'>\n"
     ]
    }
   ],
   "source": [
    "import openpyxl\n",
    "wb = openpyxl.load_workbook(r\"C:\\Users\\x11832\\Documents\\ProyectosDaniel\\VENADO\\sapHunter\\SAPHunter\\extractosBancarios\\20102022\\1539-16102022.xlsx\")\n",
    "sheet = wb.worksheets[0]\n",
    "fecha=sheet.cell(row=6, column=1).value\n",
    "print(str(fecha))\n",
    "print(type(fecha))"
   ]
  },
  {
   "cell_type": "code",
   "execution_count": null,
   "metadata": {},
   "outputs": [],
   "source": [
    "import openpyxl\n",
    "wb = openpyxl.load_workbook(r\"C:\\Users\\x11832\\Documents\\ProyectosDaniel\\VENADO\\sapHunter\\SAPHunter\\extractosBancarios\\18102022\\5385-16102022.xlsx\")\n",
    "sheet = wb.worksheets[0]\n",
    "d2=sheet.cell(row=13, column=23).value\n",
    "d3=\"349.128,00\"\n",
    "print(type(d2))\n",
    "print(d2,\"------>\",d2.replace(\",\",\"\").replace(\".\",\",\"))\n",
    "print(d3,\"------>\",d3.replace(\",\",\"\").replace(\".\",\",\"))\n",
    "dux=float(d3)\n",
    "print(dux)"
   ]
  },
  {
   "cell_type": "code",
   "execution_count": null,
   "metadata": {},
   "outputs": [],
   "source": [
    "import locale\n",
    "def get_float_from_string(string):\n",
    "    locale.setlocale(locale.LC_ALL, 'es.UTF-8')\n",
    "    return locale.atof(string)\n",
    "\n",
    "initiaString=\"1000,123\"\n",
    "my_str = initiaString.replace(\",\",\"\").replace(\".\",\",\")\n",
    "print(my_str)\n",
    "myfloat=get_float_from_string(my_str)\n",
    "print(myfloat)\n",
    "print(type(myfloat))"
   ]
  },
  {
   "cell_type": "code",
   "execution_count": null,
   "metadata": {},
   "outputs": [],
   "source": [
    "# format number with decimal separator by comma\n",
    "my_str = '456,789.45'.replace(\",\",\"\").replace(\".\",\",\")\n",
    "print(my_str)\n",
    "f=float(my_str)\n",
    "print(f)"
   ]
  },
  {
   "cell_type": "code",
   "execution_count": null,
   "metadata": {},
   "outputs": [],
   "source": [
    "#function float 3,14 to 3.14\n",
    "def float_to_str(f):\n",
    "    return str(f).replace(\",\",\"\").replace(\".\",\",\")\n",
    "print(float_to_str(\"3,14\"))"
   ]
  },
  {
   "cell_type": "code",
   "execution_count": null,
   "metadata": {},
   "outputs": [],
   "source": [
    "def showing_errors():\n",
    "    print(\"ejecuntado codigo de la funcion\")\n",
    "    try:\n",
    "        raise Exception(\"Error en la funcion\")\n",
    "        #print(\"ejecuntado codigo de la funcion\")\n",
    "    except Exception as e:\n",
    "        #print(e)\n",
    "        pass\n",
    "\n",
    "showing_errors()"
   ]
  },
  {
   "cell_type": "code",
   "execution_count": null,
   "metadata": {},
   "outputs": [],
   "source": [
    "with open (r\"errorsLog.txt\") as f:\n",
    "    q=str(f.readlines())\n",
    "if q.find(\"Sapgui Component\") > 0:\n",
    "    print(\"no esta\")"
   ]
  },
  {
   "cell_type": "code",
   "execution_count": null,
   "metadata": {},
   "outputs": [],
   "source": [
    "import os\n",
    "import time\n",
    "for i in range(8):\n",
    "    time.sleep(1)\n",
    "    os.system(\"taskkill /im saplogon.exe\")"
   ]
  },
  {
   "cell_type": "code",
   "execution_count": null,
   "metadata": {},
   "outputs": [],
   "source": [
    "os.system(\"taskkill /im saplogon.exe\")"
   ]
  },
  {
   "cell_type": "code",
   "execution_count": 61,
   "metadata": {},
   "outputs": [
    {
     "name": "stdout",
     "output_type": "stream",
     "text": [
      "C:\\Users\\x11832\\Documents\\ProyectosDaniel\\VENADO\\sapHunter\\SAPHunter\\extractosBancarios\\21102022\n"
     ]
    }
   ],
   "source": [
    "# get the folder path of path file\n",
    "import os\n",
    "path = r\"C:\\Users\\x11832\\Documents\\ProyectosDaniel\\VENADO\\sapHunter\\SAPHunter\\extractosBancarios\\21102022\\1539-16102022.xlsx\"\n",
    "folder = os.path.dirname(path)\n",
    "#q=currentSrcPath = os.getcwd()\n",
    "print(folder)"
   ]
  },
  {
   "cell_type": "code",
   "execution_count": null,
   "metadata": {},
   "outputs": [],
   "source": [
    "#conver str to date\n",
    "from datetime import datetime\n",
    "date=\"mi fecha es 20/10/2021\"\n",
    "format=\"mi fecha %d/%m/%Y\"\n",
    "format2=\"%d.%m.%Y\"\n",
    "date2=datetime.strptime(date,format)\n",
    "date3=date2.strftime(format2)\n",
    "print(date3)"
   ]
  },
  {
   "cell_type": "code",
   "execution_count": null,
   "metadata": {},
   "outputs": [],
   "source": [
    "#convert date object to str\n",
    "from datetime import datetime\n",
    "date=datetime.now()\n",
    "format=\"%d/%m/%Y\"\n"
   ]
  },
  {
   "cell_type": "code",
   "execution_count": 62,
   "metadata": {},
   "outputs": [
    {
     "name": "stdout",
     "output_type": "stream",
     "text": [
      "3.14\n"
     ]
    }
   ],
   "source": [
    "# format float number\n",
    "def format_float(f):\n",
    "    return \"{:.2f}\".format(f)\n",
    "print(format_float(3.141592653589793))"
   ]
  },
  {
   "cell_type": "code",
   "execution_count": 22,
   "metadata": {},
   "outputs": [
    {
     "name": "stdout",
     "output_type": "stream",
     "text": [
      "BFAS        ;620210                  ; 126 ;01.05.22;BOB;          1208.32 ;                  ;                  ;          1208.32 ;                                   ;620210                             ;        ;        ;         ;                       ;  ;        ;   0\n",
      "\n",
      "INICIAL:           1208.32 \n",
      "FINAL           1208.32 \n"
     ]
    }
   ],
   "source": [
    "with open(r\"C:\\Users\\LENOVO\\Documents\\RobotDaniel\\VENADO\\SapHunter\\plantillasSap\\29102022\\auszug.txt\", 'r') as file:\n",
    "    line=file.readlines()[0]\n",
    "    initialAuzug = line.split(\";\")[5]\n",
    "    finallAuzug = line.split(\";\")[8]\n",
    "print(line)\n",
    "print(\"INICIAL:\",initialAuzug)\n",
    "print(\"FINAL\",finallAuzug)\n",
    "#initialAuzug\n",
    "#finallAuzug"
   ]
  },
  {
   "cell_type": "code",
   "execution_count": 31,
   "metadata": {},
   "outputs": [
    {
     "name": "stdout",
     "output_type": "stream",
     "text": [
      "es negativo\n",
      "        864473.10\n"
     ]
    },
    {
     "data": {
      "text/plain": [
       "-864473.1"
      ]
     },
     "execution_count": 31,
     "metadata": {},
     "output_type": "execute_result"
    }
   ],
   "source": [
    "a='        864473.10-'\n",
    "if a.find(\"-\") > 0:\n",
    "    print(\"es negativo\")\n",
    "    q=a.replace(\"-\",\"\")\n",
    "print(q)\n",
    "c=-float(q)\n",
    "c"
   ]
  },
  {
   "cell_type": "code",
   "execution_count": null,
   "metadata": {},
   "outputs": [],
   "source": [
    "# convert positive to negative float\n",
    "def convert_positive_to_negative(f):\n",
    "    return -f"
   ]
  }
 ],
 "metadata": {
  "kernelspec": {
   "display_name": "Python 3.10.4 64-bit",
   "language": "python",
   "name": "python3"
  },
  "language_info": {
   "codemirror_mode": {
    "name": "ipython",
    "version": 3
   },
   "file_extension": ".py",
   "mimetype": "text/x-python",
   "name": "python",
   "nbconvert_exporter": "python",
   "pygments_lexer": "ipython3",
   "version": "3.10.4"
  },
  "orig_nbformat": 4,
  "vscode": {
   "interpreter": {
    "hash": "369f2c481f4da34e4445cda3fffd2e751bd1c4d706f27375911949ba6bb62e1c"
   }
  }
 },
 "nbformat": 4,
 "nbformat_minor": 2
}
