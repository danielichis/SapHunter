{
 "cells": [
  {
   "cell_type": "code",
   "execution_count": 25,
   "metadata": {},
   "outputs": [
    {
     "name": "stdout",
     "output_type": "stream",
     "text": [
      "<class 'NoneType'>\n"
     ]
    }
   ],
   "source": [
    "import openpyxl\n",
    "wb = openpyxl.load_workbook(r\"C:\\DanielBots\\SapHunter\\extractosBancarios\\23112022\\0022-11102022-11102022.xlsx\")\n",
    "sheet = wb.worksheets[0]\n",
    "importe1=sheet[\"M7\"].value\n",
    "print(type(importe1))\n",
    "importe1\n"
   ]
  },
  {
   "cell_type": "code",
   "execution_count": 8,
   "metadata": {},
   "outputs": [
    {
     "name": "stdout",
     "output_type": "stream",
     "text": [
      "<class 'str'>\n"
     ]
    },
    {
     "data": {
      "text/plain": [
       "'708,555.53'"
      ]
     },
     "execution_count": 8,
     "metadata": {},
     "output_type": "execute_result"
    }
   ],
   "source": [
    "wb = openpyxl.load_workbook(r\"C:\\DanielBots\\SapHunter\\extractosBancarios\\23112022\\1437-09112022-09112022.xlsx\")\n",
    "sheet = wb.worksheets[0]\n",
    "importe1=sheet[\"F6\"].value\n",
    "print(type(importe1))\n",
    "importe1"
   ]
  },
  {
   "cell_type": "code",
   "execution_count": null,
   "metadata": {},
   "outputs": [],
   "source": [
    "import openpyxl\n",
    "wb = openpyxl.load_workbook(r\"C:\\Users\\x11832\\Documents\\ProyectosDaniel\\VENADO\\sapHunter\\SAPHunter\\extractosBancarios\\18102022\\5385-16102022.xlsx\")\n",
    "sheet = wb.worksheets[0]\n",
    "d2=sheet.cell(row=13, column=23).value\n",
    "d3=\"349.128,00\"\n",
    "print(type(d2))\n",
    "print(d2,\"------>\",d2.replace(\",\",\"\").replace(\".\",\",\"))\n",
    "print(d3,\"------>\",d3.replace(\",\",\"\").replace(\".\",\",\"))\n",
    "dux=float(d3)\n",
    "print(dux)"
   ]
  },
  {
   "cell_type": "code",
   "execution_count": null,
   "metadata": {},
   "outputs": [],
   "source": [
    "import locale\n",
    "def get_float_from_string(string):\n",
    "    locale.setlocale(locale.LC_ALL, 'es.UTF-8')\n",
    "    return locale.atof(string)\n",
    "\n",
    "initiaString=\"1000,123\"\n",
    "my_str = initiaString.replace(\",\",\"\").replace(\".\",\",\")\n",
    "print(my_str)\n",
    "myfloat=get_float_from_string(my_str)\n",
    "print(myfloat)\n",
    "print(type(myfloat))"
   ]
  },
  {
   "cell_type": "code",
   "execution_count": null,
   "metadata": {},
   "outputs": [],
   "source": [
    "# format number with decimal separator by comma\n",
    "my_str = '456,789.45'.replace(\",\",\"\").replace(\".\",\",\")\n",
    "print(my_str)\n",
    "f=float(my_str)\n",
    "print(f)"
   ]
  },
  {
   "cell_type": "code",
   "execution_count": null,
   "metadata": {},
   "outputs": [],
   "source": [
    "#function float 3,14 to 3.14\n",
    "def float_to_str(f):\n",
    "    return str(f).replace(\",\",\"\").replace(\".\",\",\")\n",
    "print(float_to_str(\"3,14\"))"
   ]
  },
  {
   "cell_type": "code",
   "execution_count": 62,
   "metadata": {},
   "outputs": [
    {
     "name": "stdout",
     "output_type": "stream",
     "text": [
      "3.14\n"
     ]
    }
   ],
   "source": [
    "# format float number\n",
    "def format_float(f):\n",
    "    return \"{:.2f}\".format(f)\n",
    "print(format_float(3.141592653589793))"
   ]
  },
  {
   "cell_type": "code",
   "execution_count": 22,
   "metadata": {},
   "outputs": [
    {
     "name": "stdout",
     "output_type": "stream",
     "text": [
      "BFAS        ;620210                  ; 126 ;01.05.22;BOB;          1208.32 ;                  ;                  ;          1208.32 ;                                   ;620210                             ;        ;        ;         ;                       ;  ;        ;   0\n",
      "\n",
      "INICIAL:           1208.32 \n",
      "FINAL           1208.32 \n"
     ]
    }
   ],
   "source": [
    "with open(r\"C:\\Users\\LENOVO\\Documents\\RobotDaniel\\VENADO\\SapHunter\\plantillasSap\\29102022\\auszug.txt\", 'r') as file:\n",
    "    line=file.readlines()[0]\n",
    "    initialAuzug = line.split(\";\")[5]\n",
    "    finallAuzug = line.split(\";\")[8]\n",
    "print(line)\n",
    "print(\"INICIAL:\",initialAuzug)\n",
    "print(\"FINAL\",finallAuzug)\n",
    "#initialAuzug\n",
    "#finallAuzug"
   ]
  },
  {
   "cell_type": "code",
   "execution_count": 31,
   "metadata": {},
   "outputs": [
    {
     "name": "stdout",
     "output_type": "stream",
     "text": [
      "es negativo\n",
      "        864473.10\n"
     ]
    },
    {
     "data": {
      "text/plain": [
       "-864473.1"
      ]
     },
     "execution_count": 31,
     "metadata": {},
     "output_type": "execute_result"
    }
   ],
   "source": [
    "a='        864473.10-'\n",
    "if a.find(\"-\") > 0:\n",
    "    print(\"es negativo\")\n",
    "    q=a.replace(\"-\",\"\")\n",
    "print(q)\n",
    "c=-float(q)\n",
    "c"
   ]
  },
  {
   "cell_type": "code",
   "execution_count": 1,
   "metadata": {},
   "outputs": [
    {
     "name": "stdout",
     "output_type": "stream",
     "text": [
      "solo hay coma\n",
      "2129.35\n"
     ]
    }
   ],
   "source": [
    "number=\"2129,35\"\n",
    "def get_float_from_string(number):\n",
    "    indexComma=number.find(\",\")\n",
    "    indexPunto=number.find(\".\")\n",
    "    if indexComma>=0 and indexPunto>=0:\n",
    "        print(\"hay coma y punto\")\n",
    "        if indexComma>indexPunto:\n",
    "            print(\"hay coma y punto y la coma esta despues del punto\")\n",
    "            number=number.replace(\".\",\"\").replace(\",\",\".\")\n",
    "            print(number)\n",
    "        else:\n",
    "            print(\"hay coma y punto y la coma esta antes del punto\")\n",
    "            number=number.replace(\",\",\"\")\n",
    "    elif indexComma>=0 and indexPunto==-1:\n",
    "        print(\"solo hay coma\")\n",
    "        number=number.replace(\",\",\".\")\n",
    "    elif indexPunto>=0 and indexComma==-1:\n",
    "        print(\"solo hay punto\")\n",
    "    else:\n",
    "        print(\"no hay coma ni punto\")\n",
    "    return float(number)\n",
    "print(get_float_from_string(number))"
   ]
  }
 ],
 "metadata": {
  "kernelspec": {
   "display_name": "Python 3.10.4 64-bit",
   "language": "python",
   "name": "python3"
  },
  "language_info": {
   "codemirror_mode": {
    "name": "ipython",
    "version": 3
   },
   "file_extension": ".py",
   "mimetype": "text/x-python",
   "name": "python",
   "nbconvert_exporter": "python",
   "pygments_lexer": "ipython3",
   "version": "3.10.5"
  },
  "orig_nbformat": 4,
  "vscode": {
   "interpreter": {
    "hash": "369f2c481f4da34e4445cda3fffd2e751bd1c4d706f27375911949ba6bb62e1c"
   }
  }
 },
 "nbformat": 4,
 "nbformat_minor": 2
}
