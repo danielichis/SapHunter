{
 "cells": [
  {
   "cell_type": "code",
   "execution_count": null,
   "metadata": {},
   "outputs": [],
   "source": [
    "from datetime import datetime, timezone, timedelta, date\n",
    "from threading import currentThread\n",
    "\n",
    "now = datetime.now(timezone.utc)+timedelta(hours=-4)\n",
    "print(now)\n",
    "currentDate = now.strftime(\"%d.%m.%Y\")\n",
    "currentDate\n",
    "\n",
    "\n",
    "\n",
    "data = {}\n",
    "data['loginScreen']={}\n",
    "data['loginScreen']['user']='BOT'\n",
    "data['loginScreen']['psw']='botpruebas**'\n",
    "data['bankData']={}\n",
    "data['bankData']['date']=currentDate\n",
    "data['bankData']['society']='GV01'\n",
    "data['bankData']['bankId']='BMS06'\n",
    "data['bankData']['CtaId']='42984'\n",
    "data['bankData']['coin']='BOB'\n",
    "data['programFiles']={}\n",
    "data['programFiles']['xlsxName']=''\n",
    "data['programFiles']['auszugName']=''\n",
    "data['programFiles']['umsatzName']=''"
   ]
  },
  {
   "cell_type": "code",
   "execution_count": null,
   "metadata": {},
   "outputs": [],
   "source": [
    "import pathlib\n",
    "e=str(pathlib.Path().resolve())\n",
    "\n",
    "e"
   ]
  },
  {
   "cell_type": "code",
   "execution_count": 36,
   "metadata": {},
   "outputs": [
    {
     "name": "stdout",
     "output_type": "stream",
     "text": [
      "-0500\n"
     ]
    }
   ],
   "source": [
    "from time import gmtime, strftime\n",
    "print(strftime(\"%z\", gmtime()))"
   ]
  },
  {
   "cell_type": "code",
   "execution_count": 37,
   "metadata": {},
   "outputs": [
    {
     "name": "stdout",
     "output_type": "stream",
     "text": [
      "d1 = 16.10.2022\n"
     ]
    }
   ],
   "source": [
    "from datetime import date\n",
    "\n",
    "today = date.today()\n",
    "\n",
    "# dd/mm/YY\n",
    "d1 = today.strftime(\"%d.%m.%Y\")\n",
    "print(\"d1 =\", d1)"
   ]
  },
  {
   "cell_type": "code",
   "execution_count": 43,
   "metadata": {},
   "outputs": [
    {
     "name": "stdout",
     "output_type": "stream",
     "text": [
      "2022-10-16 21:40:40.164324+00:00\n"
     ]
    },
    {
     "data": {
      "text/plain": [
       "'16.10.2022'"
      ]
     },
     "execution_count": 43,
     "metadata": {},
     "output_type": "execute_result"
    }
   ],
   "source": [
    "from datetime import datetime, timezone, timedelta, date\n",
    "\n",
    "now = datetime.now(timezone.utc)+timedelta(hours=-4)\n",
    "print(now)\n",
    "d1 = now.strftime(\"%d.%m.%Y\")\n",
    "d1\n"
   ]
  },
  {
   "cell_type": "code",
   "execution_count": null,
   "metadata": {},
   "outputs": [],
   "source": []
  },
  {
   "cell_type": "code",
   "execution_count": null,
   "metadata": {},
   "outputs": [],
   "source": []
  },
  {
   "cell_type": "code",
   "execution_count": null,
   "metadata": {},
   "outputs": [],
   "source": []
  },
  {
   "cell_type": "code",
   "execution_count": null,
   "metadata": {},
   "outputs": [],
   "source": [
    "\n",
    "\n"
   ]
  },
  {
   "cell_type": "code",
   "execution_count": null,
   "metadata": {},
   "outputs": [],
   "source": []
  },
  {
   "cell_type": "code",
   "execution_count": null,
   "metadata": {},
   "outputs": [],
   "source": []
  }
 ],
 "metadata": {
  "kernelspec": {
   "display_name": "Python 3.10.8 64-bit",
   "language": "python",
   "name": "python3"
  },
  "language_info": {
   "codemirror_mode": {
    "name": "ipython",
    "version": 3
   },
   "file_extension": ".py",
   "mimetype": "text/x-python",
   "name": "python",
   "nbconvert_exporter": "python",
   "pygments_lexer": "ipython3",
   "version": "3.10.8"
  },
  "orig_nbformat": 4,
  "vscode": {
   "interpreter": {
    "hash": "43973268aa23c7cf4b4cafe0e819fac9b2412fcc991a21988492c3271a4e3f9b"
   }
  }
 },
 "nbformat": 4,
 "nbformat_minor": 2
}
